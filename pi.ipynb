{
 "cells": [
  {
   "cell_type": "code",
   "execution_count": 1,
   "metadata": {},
   "outputs": [],
   "source": [
    "import typing\n",
    "import math\n",
    "import random\n",
    "import time\n",
    "import numpy as np\n",
    "import matplotlib.pyplot as plt\n",
    "%matplotlib inline"
   ]
  },
  {
   "cell_type": "markdown",
   "metadata": {},
   "source": [
    "## Approximating Pi based on method proposed in \"Field Theory Expansions of String Theory Amplitudes\" by Arnab Saha and Aninda Sinha at IISc.\n",
    "\n",
    "Given <br>\n",
    "\n",
    "$\\[\\frac{\\Gamma(-s_1) \\Gamma(-s_2)}{\\Gamma(1 - s_1 - s_2)}\n",
    "= \\sum_{n=0}^{\\infty} \\frac{1}{n!} \n",
    "\\left( \\frac{1}{s_1 - n} + \\frac{1}{s_2 - n} + \\frac{1}{\\lambda + n} \\right)\n",
    "\\frac{1 - \\lambda + (s_1 + \\lambda)(s_2 + \\lambda)}{\\lambda + n}\n",
    "(n-1)\n",
    "\\]$"
   ]
  },
  {
   "cell_type": "code",
   "execution_count": null,
   "metadata": {},
   "outputs": [],
   "source": []
  }
 ],
 "metadata": {
  "kernelspec": {
   "display_name": "Python 3",
   "language": "python",
   "name": "python3"
  },
  "language_info": {
   "codemirror_mode": {
    "name": "ipython",
    "version": 3
   },
   "file_extension": ".py",
   "mimetype": "text/x-python",
   "name": "python",
   "nbconvert_exporter": "python",
   "pygments_lexer": "ipython3",
   "version": "3.12.9"
  }
 },
 "nbformat": 4,
 "nbformat_minor": 2
}
