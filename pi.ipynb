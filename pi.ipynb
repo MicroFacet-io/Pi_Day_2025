{
  "nbformat": 4,
  "nbformat_minor": 0,
  "metadata": {
    "colab": {
      "provenance": []
    },
    "kernelspec": {
      "name": "python3",
      "display_name": "Python 3"
    },
    "language_info": {
      "name": "python"
    }
  },
  "cells": [
    {
      "cell_type": "code",
      "execution_count": 2,
      "metadata": {
        "id": "EV7Arog3tUhM"
      },
      "outputs": [],
      "source": [
        "import typing\n",
        "import math\n",
        "import random\n",
        "import time\n",
        "import numpy as np\n",
        "import matplotlib.pyplot as plt\n",
        "%matplotlib inline\n",
        "\n",
        "pi = 3.14159265358979323846"
      ]
    },
    {
      "cell_type": "markdown",
      "source": [
        "## Approximating Pi based on method proposed in \"Field Theory Expansions of String Theory Amplitudes\" by Arnab Saha and Aninda Sinha at IISc.\n",
        "\n",
        "Given <br>\n",
        "\n",
        "$$\n",
        "\\frac{\\Gamma(-s_1) \\Gamma(-s_2)}{\\Gamma(1 - s_1 - s_2)}\n",
        "= \\sum_{n=0}^{\\infty} \\frac{1}{n!}\n",
        "\\left( \\frac{1}{s_1 - n} + \\frac{1}{s_2 - n} + \\frac{1}{\\lambda + n} \\right)\n",
        "\\left(1 - λ + \\frac{(s_1 + \\lambda)(s_2 + \\lambda)}{\\lambda + n} \\right)_{(n-1)}\n",
        "$$\n",
        "\n",
        "for $$s_1 = s_2 = -1/2$$\n",
        "\n",
        "$$ \\pi = 4 +  \\sum_{n=0}^{\\infty} \\left(\\frac{1}{n+4} - \\frac{4}{2n + 1} \\right)\\left(\\frac{(2n+1)^2}{4(n+λ)} -n\\right)_{(n-1)} $$\n",
        "\n",
        "Further,\n",
        "\n",
        "$$ \\lim_{λ\\to\\infty} \\left( \\frac{ 4 +  \\sum_{n=0}^{\\infty} \\left(\\frac{1}{n+4} - \\frac{4}{2n + 1} \\right)\\left(\\frac{(2n+1)^2}{4(n+λ)} -n\\right)_{(n-1)}}{4} \\right)  $$\n",
        "\n",
        "translates to **Madhava Series for approximation of pi**.\n",
        "\n",
        "\n",
        "Reference: [Saha et al. \"Field Theory Expansions of String Theory Amplitudes\"](https://journals.aps.org/prl/pdf/10.1103/PhysRevLett.132.221601)\n",
        "\n"
      ],
      "metadata": {
        "id": "qvravVJbtcMt"
      }
    },
    {
      "cell_type": "code",
      "source": [
        "def calculate_pi_approximation(n_terms, lamda):\n",
        "  \"\"\"\n",
        "  Calculates an approximation of pi using the given equation.\n",
        "\n",
        "  Args:\n",
        "    n_terms: The number of terms to include in the series.\n",
        "    lamda: The value of lambda.\n",
        "\n",
        "  Returns:\n",
        "    The approximated value of pi.\n",
        "  \"\"\"\n",
        "  pi_approximation = 4\n",
        "  for n in range(n_terms):\n",
        "    term1 = (1 / (n + 4)) - (4 / (2 * n + 1))\n",
        "    term2 = ((2 * n + 1)**2) / (4 * (n + lamda)) - n\n",
        "\n",
        "    # Pochhammer symbol (falling factorial) calculation:\n",
        "    # (x)_n = x(x-1)(x-2)...(x-n+1)\n",
        "    # For n = 0, (x)_0 = 1\n",
        "    pochhammer_term = 1\n",
        "    if n > 0:\n",
        "        for i in range(n):\n",
        "            pochhammer_term *= (term2 - i)\n",
        "\n",
        "    pi_approximation += term1 * pochhammer_term\n",
        "  return pi_approximation"
      ],
      "metadata": {
        "id": "HU6Vu2sLwQgi"
      },
      "execution_count": 16,
      "outputs": []
    },
    {
      "cell_type": "code",
      "source": [
        "n_terms_range = range(1, 51)  # Calculate for 1 to 50 terms\n",
        "lamda_value = 50  # Set a value for lambda\n",
        "\n",
        "approximations = []\n",
        "errors = []\n",
        "\n",
        "for n_terms in n_terms_range:\n",
        "  pi_approx = calculate_pi_approximation(n_terms, lamda_value)\n",
        "  approximations.append(pi_approx)\n",
        "  errors.append(abs(math.pi - pi_approx))"
      ],
      "metadata": {
        "id": "5Gv-ayh2wijh"
      },
      "execution_count": 17,
      "outputs": []
    },
    {
      "cell_type": "code",
      "source": [
        "plt.plot(n_terms_range, errors)\n",
        "plt.title(\"Error in Pi Approximation vs. Number of Terms\")\n",
        "plt.xlabel(\"Number of Terms\")\n",
        "plt.ylabel(\"Absolute Error\")\n",
        "plt.show()"
      ],
      "metadata": {
        "colab": {
          "base_uri": "https://localhost:8080/",
          "height": 472
        },
        "id": "MEJOgVBBxict",
        "outputId": "4540f544-df3c-4872-f95a-d0d9fbd5a47d"
      },
      "execution_count": 18,
      "outputs": [
        {
          "output_type": "display_data",
          "data": {
            "text/plain": [
              "<Figure size 640x480 with 1 Axes>"
            ],
            "image/png": "[encoded data removed]"
          },
          "metadata": {}
        }
      ]
    },
    {
      "cell_type": "code",
      "source": [
        "print(f\"lowest error: {min(errors)}\")"
      ],
      "metadata": {
        "colab": {
          "base_uri": "https://localhost:8080/"
        },
        "id": "GwF2FJMbxkN7",
        "outputId": "943bb9fd-2f24-4636-8b0d-73b82a1a2d3f"
      },
      "execution_count": 19,
      "outputs": [
        {
          "output_type": "stream",
          "name": "stdout",
          "text": [
            "lowest error: 1.8082593202564599\n"
          ]
        }
      ]
    },
    {
      "cell_type": "code",
      "source": [
        "# Define a range for n and lambda to search\n",
        "n_terms_range = range(1, 1001)  # Wider range for n\n",
        "lamda_range = range(1, 1001)   # Wider range for lambda\n",
        "\n",
        "lowest_error = float('inf')\n",
        "best_n = 0\n",
        "best_lamda = 0\n",
        "\n",
        "for n_terms in n_terms_range:\n",
        "    for lamda in lamda_range:\n",
        "        pi_approx = calculate_pi_approximation(n_terms, lamda)\n",
        "        error = abs(math.pi - pi_approx)\n",
        "\n",
        "        # Check if current error is lower than the lowest found so far\n",
        "        if error < lowest_error:\n",
        "            lowest_error = error\n",
        "            best_n = n_terms\n",
        "            best_lamda = lamda\n",
        "\n",
        "            # If error is small enough to approximate to 20 decimal places, break\n",
        "            if error < 1e-20:\n",
        "                break\n",
        "    else:  # Continue if the inner loop wasn't broken\n",
        "        continue\n",
        "    break  # Break the outer loop if the inner loop was broken\n",
        "\n",
        "print(f\"Lowest error: {lowest_error}\")\n",
        "print(f\"Best n: {best_n}\")\n",
        "print(f\"Best lambda: {best_lamda}\")"
      ],
      "metadata": {
        "id": "6QzymLgNxs7-"
      },
      "execution_count": null,
      "outputs": []
    },
    {
      "cell_type": "code",
      "source": [],
      "metadata": {
        "id": "YPMcqk2bx-O0"
      },
      "execution_count": null,
      "outputs": []
    }
  ]
}